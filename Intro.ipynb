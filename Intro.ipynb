{
 "cells": [
  {
   "cell_type": "markdown",
   "metadata": {},
   "source": [
    "## Variables\n",
    "\n",
    "Las variables se definen:\n",
    "* Tipo String(va implicito)\n",
    "* Nombre 'msg'\n",
    "* Valor"
   ]
  },
  {
   "cell_type": "code",
   "execution_count": null,
   "metadata": {},
   "outputs": [],
   "source": [
    "print ('Hola Explorers!')"
   ]
  },
  {
   "cell_type": "code",
   "execution_count": null,
   "metadata": {},
   "outputs": [],
   "source": [
    "# Hola con una variable\n",
    "msg = 'Hola Explorers'\n",
    "print(msg)"
   ]
  },
  {
   "cell_type": "markdown",
   "metadata": {},
   "source": [
    "Programando Hotcakes"
   ]
  },
  {
   "cell_type": "code",
   "execution_count": null,
   "metadata": {},
   "outputs": [],
   "source": [
    "titulo = 'Programando hotcakes'\n",
    "\n",
    "huevo = 3\n",
    "leche = 1.5\n",
    "mantequilla = 0.045\n",
    "harina = 3\n",
    "cditaVainilla = 0.015\n",
    "\n",
    "# Asignamos los espacios en la memoria del programa para nuestros ingredientes"
   ]
  },
  {
   "cell_type": "code",
   "execution_count": null,
   "metadata": {},
   "outputs": [],
   "source": [
    "print (leche)"
   ]
  },
  {
   "cell_type": "code",
   "execution_count": null,
   "metadata": {},
   "outputs": [],
   "source": [
    "print ('Cantidad de leche: '+str(leche) + 'Cantidad de huevo: ' +str(huevo) )"
   ]
  },
  {
   "cell_type": "code",
   "execution_count": null,
   "metadata": {},
   "outputs": [],
   "source": [
    "print ('Cantidad de leche: '+str(leche) + '\\nCantidad de huevo: ' +str(huevo) )"
   ]
  },
  {
   "cell_type": "code",
   "execution_count": null,
   "metadata": {},
   "outputs": [],
   "source": [
    "#Mezclamos los ingredientes\n",
    "\n",
    "mezcla = huevo + leche + harina + mantequilla + cditaVainilla\n",
    "print(mezcla)"
   ]
  },
  {
   "cell_type": "code",
   "execution_count": null,
   "metadata": {},
   "outputs": [],
   "source": [
    "# Reglas - Condiciones\n",
    "\n",
    "# huevo = 3\n",
    "# leche = 1.5\n",
    "# mantequilla = 0.045\n",
    "# harina = 3\n",
    "# cditaVainilla = 0.015\n",
    "\n",
    "if (huevo == 3):\n",
    "    print ('La cantidad de huevo es correcta')\n",
    "elif (leche == 1.5):\n",
    "    print ('La cantidad de leche es correcta') \n",
    "elif (mantequilla == 0.045):\n",
    "    print ('La cantidad de mantequilla es correcta') \n",
    "else:\n",
    "    print('Revisa tus ingredientes')\n"
   ]
  },
  {
   "cell_type": "code",
   "execution_count": null,
   "metadata": {},
   "outputs": [],
   "source": [
    "# Repartirlos \n",
    "\n",
    "porcion = mezcla / 3\n",
    "print('La mezcla alcanzo para '+str(porcion)+  ' hotcakes por persona')"
   ]
  },
  {
   "cell_type": "markdown",
   "metadata": {},
   "source": [
    "## Cadenas \n",
    "Serie de caracteres, entre comillas dobles o simples \" '\n",
    "\n",
    "* Cadena es una clase y se entiende como que tiene muchas acciones que se pueden ejecutar.\n",
    "\n",
    "python puede usar comillas simples ''\n",
    "\n",
    "java usa comillas dobles \"\""
   ]
  },
  {
   "cell_type": "markdown",
   "metadata": {},
   "source": [
    "STRING  \n",
    "\n",
    "Bibliotecas o:\n",
    "\n",
    "numpy: nos permite trabajar con calculo, algebra lineal, etc.\n",
    "\n",
    "matplotlib:nos permite trabajar con graficas, \n",
    "\n",
    "Son colecciones de libros especiales a las que podemos recurrir para cargarle contenido o conocimiento ya preestablecido\n",
    "\n",
    "Se pueden usar bibliotecas para calcular, para graficar, etc, solo se deben instalar y las traes y las puedes usar."
   ]
  },
  {
   "cell_type": "markdown",
   "metadata": {},
   "source": [
    "En String tiene diferentes acciones o metodos como:\n",
    "title\n",
    "upper\n",
    "lawer\n",
    "strip\n",
    "islawer\n",
    "lstrip\n",
    "rstrip"
   ]
  },
  {
   "cell_type": "code",
   "execution_count": null,
   "metadata": {},
   "outputs": [],
   "source": [
    "#String\n",
    "name = 'Ada Lovelace'\n",
    "print(name.title())"
   ]
  },
  {
   "cell_type": "code",
   "execution_count": null,
   "metadata": {},
   "outputs": [],
   "source": [
    "print(name.upper())\n",
    "#Mayusculas"
   ]
  },
  {
   "cell_type": "code",
   "execution_count": null,
   "metadata": {},
   "outputs": [],
   "source": [
    "print(name.lower())\n",
    "#Minusculas"
   ]
  },
  {
   "cell_type": "code",
   "execution_count": null,
   "metadata": {},
   "outputs": [],
   "source": [
    "name = name.lower()\n",
    "print(name.islower())\n",
    "print(name)"
   ]
  },
  {
   "cell_type": "code",
   "execution_count": null,
   "metadata": {},
   "outputs": [],
   "source": [
    "first_name = 'ada'\n",
    "last_name = '                   lovelace              '\n",
    "print(first_name + \" \" +last_name)"
   ]
  },
  {
   "cell_type": "code",
   "execution_count": null,
   "metadata": {},
   "outputs": [],
   "source": [
    "#Quitar todos los espacios \n",
    "last_name = last_name.strip()"
   ]
  },
  {
   "cell_type": "code",
   "execution_count": null,
   "metadata": {},
   "outputs": [],
   "source": [
    "print(last_name)"
   ]
  },
  {
   "cell_type": "code",
   "execution_count": null,
   "metadata": {},
   "outputs": [],
   "source": [
    "last_name = '                   lovelace              '\n",
    "last_name = last_name.lstrip()\n",
    "print(last_name)\n",
    "#Elimina los espacios al inicio"
   ]
  },
  {
   "cell_type": "code",
   "execution_count": null,
   "metadata": {},
   "outputs": [],
   "source": [
    "last_name = last_name.rstrip()\n",
    "print(last_name)"
   ]
  },
  {
   "cell_type": "code",
   "execution_count": null,
   "metadata": {},
   "outputs": [],
   "source": [
    "# Usando variables en cadenas\n",
    "\n",
    "nombre = 'Faviola'\n",
    "apellido = 'Carrillo'\n",
    "nombre_completo = f'{nombre} {apellido}'\n",
    "print(nombre_completo)"
   ]
  },
  {
   "cell_type": "code",
   "execution_count": null,
   "metadata": {},
   "outputs": [],
   "source": [
    "nombre = 'Faviola'\n",
    "apellido = 'Carrillo'\n",
    "nombre_completo = f'{apellido} {nombre}'\n",
    "print(nombre_completo)"
   ]
  },
  {
   "cell_type": "markdown",
   "metadata": {},
   "source": [
    "## Listas\n",
    "\n",
    "Almacena una serie de elementos, en un orden particular mediante un indice o dentor de un bucle \n"
   ]
  },
  {
   "cell_type": "code",
   "execution_count": null,
   "metadata": {},
   "outputs": [],
   "source": [
    "Ingredientes = ['huevo', 'harina', 'leche']"
   ]
  },
  {
   "cell_type": "code",
   "execution_count": null,
   "metadata": {},
   "outputs": [],
   "source": [
    "Ingredientes [0]"
   ]
  },
  {
   "cell_type": "code",
   "execution_count": null,
   "metadata": {},
   "outputs": [],
   "source": [
    "#Ultimo elemento\n",
    "Ingredientes [-1]"
   ]
  },
  {
   "cell_type": "code",
   "execution_count": null,
   "metadata": {},
   "outputs": [],
   "source": [
    "# Append()\n",
    "Ingredientes.append('mantequilla')\n",
    "print(Ingredientes)"
   ]
  },
  {
   "cell_type": "code",
   "execution_count": null,
   "metadata": {},
   "outputs": [],
   "source": [
    "#Insert\n",
    "Ingredientes.insert(2, 'vainilla')\n",
    "print(Ingredientes)"
   ]
  },
  {
   "cell_type": "code",
   "execution_count": null,
   "metadata": {},
   "outputs": [],
   "source": [
    "Ingredientes.pop()\n",
    "print(Ingredientes)\n"
   ]
  },
  {
   "cell_type": "code",
   "execution_count": null,
   "metadata": {},
   "outputs": [],
   "source": [
    "Ingredientes.insert(1, 'canela')\n",
    "print(Ingredientes)"
   ]
  },
  {
   "cell_type": "code",
   "execution_count": null,
   "metadata": {},
   "outputs": [],
   "source": [
    "Ingredientes = ['huevo', 'harina', 'leche', 'mantequilla', 'vainilla']"
   ]
  },
  {
   "cell_type": "code",
   "execution_count": null,
   "metadata": {},
   "outputs": [],
   "source": [
    "Ingredientes.remove('huevo')\n",
    "print(Ingredientes)"
   ]
  },
  {
   "cell_type": "code",
   "execution_count": null,
   "metadata": {},
   "outputs": [],
   "source": [
    "Ingredientes.sort()\n",
    "print(Ingredientes)"
   ]
  },
  {
   "cell_type": "code",
   "execution_count": null,
   "metadata": {},
   "outputs": [],
   "source": [
    "Ingredientes.reverse()\n",
    "print(Ingredientes)"
   ]
  },
  {
   "cell_type": "code",
   "execution_count": null,
   "metadata": {},
   "outputs": [],
   "source": [
    "#longitud\n",
    "len(Ingredientes)\n",
    "print(len(Ingredientes))"
   ]
  },
  {
   "cell_type": "code",
   "execution_count": null,
   "metadata": {},
   "outputs": [],
   "source": [
    "print(Ingredientes[-1])"
   ]
  },
  {
   "cell_type": "code",
   "execution_count": null,
   "metadata": {},
   "outputs": [],
   "source": [
    "#Slicing\n",
    "primeros_dos = Ingredientes[:2]\n",
    "print(primeros_dos)"
   ]
  },
  {
   "cell_type": "code",
   "execution_count": null,
   "metadata": {},
   "outputs": [],
   "source": [
    "#Copiar una lista\n",
    "copy_list = Ingredientes[:]\n",
    "print(copy_list)"
   ]
  },
  {
   "cell_type": "code",
   "execution_count": null,
   "metadata": {},
   "outputs": [],
   "source": [
    "#Definiendo una tupla\n",
    "dimensiones = (1080, 720)\n",
    "print(dimensiones[-1])"
   ]
  },
  {
   "cell_type": "code",
   "execution_count": null,
   "metadata": {},
   "outputs": [],
   "source": [
    "print (\"Dimensiones originales\")\n",
    "for dim in dimensiones:\n",
    "    print(dim)"
   ]
  },
  {
   "cell_type": "code",
   "execution_count": null,
   "metadata": {},
   "outputs": [],
   "source": [
    "dimensiones = (1080, 1080)\n",
    "print (\"Dimensiones modificadas\")"
   ]
  },
  {
   "cell_type": "code",
   "execution_count": null,
   "metadata": {},
   "outputs": [],
   "source": [
    "for d in dimensiones:\n",
    "    print(d)"
   ]
  },
  {
   "cell_type": "code",
   "execution_count": null,
   "metadata": {},
   "outputs": [],
   "source": [
    "dimensiones = (1080, 720)"
   ]
  },
  {
   "cell_type": "code",
   "execution_count": null,
   "metadata": {},
   "outputs": [],
   "source": [
    "## Cupcake decoración\n",
    "\n",
    "el_cliente_quiere = ['crema de chocolate', 'chispas', 'relleno de crema', 'nueces']\n",
    "\n",
    "for extra in el_cliente_quiere:\n",
    "    print(f'Anadiendo ingredientes a la orden: {extra}')\n",
    "\n",
    "print('\\n Tu cupcake esta listo')"
   ]
  },
  {
   "cell_type": "code",
   "execution_count": null,
   "metadata": {},
   "outputs": [],
   "source": [
    "## No hay un ingrediente disponible\n",
    "el_cliente_quiere = ['crema de chocolate', 'chispas', 'relleno de crema', 'nueces']\n",
    "\n",
    "for extra in el_cliente_quiere:\n",
    "    if extra == 'nueces':\n",
    "        print('Lo sentimos, no tenemos nueces,puedes agregar almendras :)')\n",
    "    else:\n",
    "        print(f'Anadiendo ingredientes a la orden: {extra}')\n",
    "print('\\n Tu cupcake esta listo')"
   ]
  },
  {
   "cell_type": "code",
   "execution_count": 11,
   "metadata": {},
   "outputs": [
    {
     "name": "stdout",
     "output_type": "stream",
     "text": [
      "Añadiendocrema de chocolate.\n",
      "Añadiendochispas.\n",
      "Añadiendorelleno de crema.\n",
      "Lo sentimos, no tenemos nueces\n",
      "\n",
      "Tu cupcake esta listo\n"
     ]
    }
   ],
   "source": [
    "# ¿Como podemos saber que ingredientes si estan disponibles?\n",
    "\n",
    "extras_disponibles = ['crema de chocolate', 'almendras', 'perlas', 'chispas', 'relleno de crema', 'ralladura de limón' 'canela']\n",
    "\n",
    "el_cliente_quiere = ['crema de chocolate', 'chispas', 'relleno de crema', 'nueces']\n",
    "\n",
    "for extra in el_cliente_quiere:\n",
    "    if extra in extras_disponibles:\n",
    "        print(f'Añadiendo{extra}.') \n",
    "    else:\n",
    "        print(f'Lo sentimos, no tenemos {extra}')\n",
    "    \n",
    "print('\\nTu cupcake esta listo')"
   ]
  }
 ],
 "metadata": {
  "interpreter": {
   "hash": "c934ad8ff00039ded26fd08e840b97fcafe9269df61bad11e534ad449f4770e8"
  },
  "kernelspec": {
   "display_name": "Python 3.10.4 64-bit",
   "language": "python",
   "name": "python3"
  },
  "language_info": {
   "codemirror_mode": {
    "name": "ipython",
    "version": 3
   },
   "file_extension": ".py",
   "mimetype": "text/x-python",
   "name": "python",
   "nbconvert_exporter": "python",
   "pygments_lexer": "ipython3",
   "version": "3.10.4"
  },
  "orig_nbformat": 4
 },
 "nbformat": 4,
 "nbformat_minor": 2
}
